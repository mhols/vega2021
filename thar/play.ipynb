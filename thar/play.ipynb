{
 "cells": [
  {
   "cell_type": "code",
   "execution_count": null,
   "id": "c427096c-0196-4807-be98-cff5ad495fe0",
   "metadata": {},
   "outputs": [],
   "source": [
    "import matplotlib.pyplot as plt\n",
    "import numpy as np"
   ]
  },
  {
   "cell_type": "code",
   "execution_count": null,
   "id": "b0f277ee-e8c7-46ae-aa24-c63d7e6defd7",
   "metadata": {},
   "outputs": [],
   "source": [
    "import json\n",
    "with open('ThAr2D_voie_1.dat.json', 'r') as f:\n",
    "    data = json.load(f)"
   ]
  },
  {
   "cell_type": "code",
   "execution_count": null,
   "id": "8394fe64-1fd6-40ef-b39f-36adb76cf126",
   "metadata": {},
   "outputs": [],
   "source": [
    "for l in data:\n",
    "    plt.plot(l['pixels_extract'], l['flux_values_extract'])\n",
    "plt.show()"
   ]
  },
  {
   "cell_type": "markdown",
   "id": "0ffa3d34-7aab-4931-a287-5518fdbee4d0",
   "metadata": {},
   "source": [
    "# overlaying the spectra"
   ]
  },
  {
   "cell_type": "code",
   "execution_count": null,
   "id": "05ac4cb1-c64e-4522-b71e-5515af85efc5",
   "metadata": {},
   "outputs": [],
   "source": [
    "for l in data[1000:2100]:\n",
    "    tmp=np.array(l['flux_values_extract'])\n",
    "    tmp -= tmp.min()\n",
    "    tmp /= tmp.max()\n",
    "    n = np.arange(tmp.shape[0])\n",
    "    m = np.sum(n*tmp)/np.sum(tmp)\n",
    "    plt.plot(m - n, tmp, '.')\n",
    "plt.show()"
   ]
  },
  {
   "cell_type": "code",
   "execution_count": null,
   "id": "ac6547ca-79e3-4e7b-bfdf-5292cc1ce3c8",
   "metadata": {},
   "outputs": [],
   "source": []
  }
 ],
 "metadata": {
  "kernelspec": {
   "display_name": "Python 3 (ipykernel)",
   "language": "python",
   "name": "python3"
  },
  "language_info": {
   "codemirror_mode": {
    "name": "ipython",
    "version": 3
   },
   "file_extension": ".py",
   "mimetype": "text/x-python",
   "name": "python",
   "nbconvert_exporter": "python",
   "pygments_lexer": "ipython3",
   "version": "3.8.10"
  }
 },
 "nbformat": 4,
 "nbformat_minor": 5
}
