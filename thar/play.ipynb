{
 "cells": [
  {
   "cell_type": "code",
   "execution_count": null,
   "id": "c427096c-0196-4807-be98-cff5ad495fe0",
   "metadata": {},
   "outputs": [],
   "source": [
    "import matplotlib\n",
    "import matplotlib.pyplot as plt\n",
    "import numpy as np\n",
    "import warnings\n",
    "warnings.filterwarnings('ignore')"
   ]
  },
  {
   "cell_type": "code",
   "execution_count": null,
   "id": "d29c781c-33d6-41b6-8445-c09f0546faaa",
   "metadata": {},
   "outputs": [],
   "source": [
    "%matplotlib widget\n",
    "%load_ext autoreload\n",
    "%autoreload 2\n",
    "# to supress output"
   ]
  },
  {
   "cell_type": "code",
   "execution_count": null,
   "id": "b86fbb16-fdaf-40df-ac2a-e6f0191f53a2",
   "metadata": {},
   "outputs": [],
   "source": [
    "\n",
    "import spectrograph as sg\n",
    "print(sg.default_kwargs)\n",
    "ccd=sg.CCD2d(**sg.default_kwargs)\n",
    "ccd_clipped = ccd.sigma_clipped()\n",
    "data=ccd.data\n",
    "data_clipped = ccd_clipped.data"
   ]
  },
  {
   "cell_type": "markdown",
   "id": "50cad943-29a6-4951-a259-14623e8f31af",
   "metadata": {
    "tags": []
   },
   "source": [
    "# Testing histogram estimation"
   ]
  },
  {
   "cell_type": "code",
   "execution_count": null,
   "id": "23efa52f-2534-4b65-ae0a-102dc97ce251",
   "metadata": {
    "tags": []
   },
   "outputs": [],
   "source": [
    "import util\n",
    "from util import *\n",
    "n = 7\n",
    "x = np.arange(n+1)"
   ]
  },
  {
   "cell_type": "code",
   "execution_count": null,
   "id": "c70e5848-0a2f-406d-afb8-a5c2ec12f32b",
   "metadata": {
    "tags": []
   },
   "outputs": [],
   "source": [
    "p = util.igauss(x, A=1000,mu=3,sigma=1, y_offset=1000)\n",
    "np.random.poisson(p)"
   ]
  },
  {
   "cell_type": "code",
   "execution_count": null,
   "id": "e367dea0-3ac6-4337-bdc0-64e221dd9716",
   "metadata": {
    "tags": []
   },
   "outputs": [],
   "source": [
    "from util import *\n",
    "import numpy as np\n",
    "fig = plt.figure(figsize=(4,5))\n",
    "#ax = fig.add_subplot(111)\n",
    "n=7\n",
    "x = np.arange(n)\n",
    "A = 10000\n",
    "mu = 3.3\n",
    "sigma = 1\n",
    "y_offset=10\n",
    "\n",
    "p = cauchy(x, A=A,mu=mu,sigma=sigma, y_offset=y_offset)\n",
    "a, b, c = [], [], []\n",
    "for i in range(500):\n",
    "    I = np.random.multinomial(A, p/p.sum()) # random intensity data\n",
    "    a.append(estimate_location(I, loss_2, gauss)[1])\n",
    "    b.append(estimate_location(I, loss_1, gauss)[1])\n",
    "\n",
    "bins = np.linspace(mu-10*sigma/np.sqrt(A), mu+10*sigma/np.sqrt(A), 20)\n",
    "fig.add_subplot(221)\n",
    "plt.hist(a, bins=bins)\n",
    "fig.add_subplot(222)\n",
    "plt.hist(a)\n",
    "fig.add_subplot(223)\n",
    "plt.title('b')\n",
    "plt.hist(b, bins=bins)\n",
    "fig.add_subplot(224)\n",
    "plt.hist(b)\n",
    "\n",
    "\n",
    "plt.show()"
   ]
  },
  {
   "cell_type": "markdown",
   "id": "c5aefc23-f169-4876-8b64-f71d786f0635",
   "metadata": {
    "tags": []
   },
   "source": [
    "# overlaying the spectra"
   ]
  },
  {
   "cell_type": "code",
   "execution_count": null,
   "id": "05ac4cb1-c64e-4522-b71e-5515af85efc5",
   "metadata": {},
   "outputs": [],
   "source": [
    "for l in data[1000:2100]:\n",
    "    tmp=np.array(l['flux_values_extract'])\n",
    "    tmp -= tmp.min()\n",
    "    tmp /= tmp.max()\n",
    "    n = np.arange(tmp.shape[0])\n",
    "    m = np.sum(n*tmp)/np.sum(tmp)\n",
    "    plt.plot(m - n, tmp, '.')\n",
    "plt.show()"
   ]
  },
  {
   "cell_type": "code",
   "execution_count": null,
   "id": "ac6547ca-79e3-4e7b-bfdf-5292cc1ce3c8",
   "metadata": {},
   "outputs": [],
   "source": [
    "M = np.array([[0.5, 0.3, 0.1, 0.1], [0.7,0.3,0,0], [0,0,0.8,0.2], [0.2, 0.2, 0.4, 0.2]])"
   ]
  },
  {
   "cell_type": "code",
   "execution_count": null,
   "id": "c432f655",
   "metadata": {},
   "outputs": [],
   "source": [
    "np.linalg.eig(M.T)"
   ]
  },
  {
   "cell_type": "code",
   "execution_count": null,
   "id": "cb6fa87f",
   "metadata": {},
   "outputs": [],
   "source": []
  }
 ],
 "metadata": {
  "kernelspec": {
   "display_name": "Python 3 (ipykernel)",
   "language": "python",
   "name": "python3"
  },
  "language_info": {
   "codemirror_mode": {
    "name": "ipython",
    "version": 3
   },
   "file_extension": ".py",
   "mimetype": "text/x-python",
   "name": "python",
   "nbconvert_exporter": "python",
   "pygments_lexer": "ipython3",
   "version": "3.8.10"
  }
 },
 "nbformat": 4,
 "nbformat_minor": 5
}
