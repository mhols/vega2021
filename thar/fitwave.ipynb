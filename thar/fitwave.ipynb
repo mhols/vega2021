{
 "cells": [
  {
   "cell_type": "markdown",
   "id": "ff7667ee-666d-456f-a4a5-8737c19d9bac",
   "metadata": {},
   "source": [
    "# Selecting spectral lines"
   ]
  },
  {
   "cell_type": "code",
   "execution_count": null,
   "id": "4c8a0093-227b-4dc8-9c1b-7a99e8eb6208",
   "metadata": {},
   "outputs": [],
   "source": [
    "import pandas as pd\n",
    "import spectrograph as sg\n",
    "import matplotlib\n",
    "import matplotlib.pyplot as plt\n",
    "from matplotlib import cm\n",
    "#from colorspacious import cspace_converter\n",
    "import numpy as np\n",
    "import warnings\n",
    "warnings.filterwarnings('ignore')"
   ]
  },
  {
   "cell_type": "code",
   "execution_count": null,
   "id": "df6547a5-dfcb-46e6-836f-dfa25fd18e14",
   "metadata": {},
   "outputs": [],
   "source": [
    "%matplotlib widget\n",
    "%load_ext autoreload\n",
    "%autoreload 2"
   ]
  },
  {
   "cell_type": "code",
   "execution_count": null,
   "id": "0ceb2808-dd60-4692-9014-fcb0f5f3f652",
   "metadata": {},
   "outputs": [],
   "source": [
    "data = sg.CCD2d(**sg.default_kwargs)\n",
    "cmap = cm.get_cmap('inferno')\n",
    "colors = cmap(np.linspace(0,1, data.get_orders().shape[0]))\n",
    "orders = data.get_orders()"
   ]
  },
  {
   "cell_type": "markdown",
   "id": "cbada2b7-082c-4647-aae3-4aff227982b6",
   "metadata": {},
   "source": [
    "We now write all order as a single function $x = f(\\lambda o)$"
   ]
  },
  {
   "cell_type": "code",
   "execution_count": null,
   "id": "a533d7ec-f27e-44e9-ac22-1d060ee78b03",
   "metadata": {},
   "outputs": [],
   "source": [
    "plt.figure(figsize=(5,4))\n",
    "for o in orders:\n",
    "    I = data.index_order(o)\n",
    "    plt.plot(data.o[I]*data.l[I], data.x[I], 'o', color=colors[o-orders[0]])\n",
    "plt.show()"
   ]
  },
  {
   "cell_type": "markdown",
   "id": "7506f4e9-c06d-40ed-ac82-65ac44669c5a",
   "metadata": {},
   "source": [
    "Removing a first global polynomial of low order.."
   ]
  },
  {
   "cell_type": "code",
   "execution_count": null,
   "id": "8cb5e773-5798-4a00-a161-83c44f8d325b",
   "metadata": {},
   "outputs": [],
   "source": [
    "ol = data.o * data.l\n",
    "global_fit = np.polynomial.Polynomial.fit(sg.link_ol(ol), data.x, deg=4)\n",
    "# residuals\n",
    "res_1 = data.x - global_fit(sg.link_ol(ol))\n",
    "# plotting the residuum\n",
    "plt.figure(figsize=(4,3))\n",
    "for o in orders:\n",
    "    I = data.index_order(o)\n",
    "    plt.plot(ol[I], res_1[I], '.', color=colors[o-orders[0]])\n",
    "plt.show()"
   ]
  },
  {
   "cell_type": "markdown",
   "id": "9589e33b-6084-4262-8d3a-11baf339d1e2",
   "metadata": {},
   "source": [
    "reducing by linear $o$ dependency\n",
    "$$\n",
    "x = P_1(ol)+P_2(o)\n",
    "$$\n",
    "Degree of $P_1$ is $4$, degree of $P_2$ is $2$."
   ]
  },
  {
   "cell_type": "code",
   "execution_count": null,
   "id": "0e15bd14-0b6a-429e-9f79-508318fedcf9",
   "metadata": {},
   "outputs": [],
   "source": [
    "fit_polynomial2 = np.polynomial.Polynomial.fit(data.o, res_1, deg=2)\n",
    "res_2 = res_1 - fit_polynomial2(data.o)\n",
    "# plotting the residuum\n",
    "plt.figure(figsize=(4,3))\n",
    "for o in orders:\n",
    "    I = data.index_order(o)\n",
    "    plt.plot(ol[I], res_2[I], '.', color=colors[o-orders[0]])\n",
    "    \n",
    "# single out the strange order....(plotted in cyan)\n",
    "o = 54\n",
    "I = data.index_order(o)\n",
    "plt.plot(ol[I], res_2[I], '.', color='cyan')\n",
    "plt.show()"
   ]
  },
  {
   "cell_type": "code",
   "execution_count": null,
   "id": "7d88af66-56e2-4bea-8c20-47819aebc5a0",
   "metadata": {},
   "outputs": [],
   "source": [
    "# new set of orders\n",
    "orders = np.array([23, 24, 25, 26, 27, 28, 29, 30, 31, 32, 33, 34, 35, 36, 37, 38, 39,\n",
    "       40, 41, 42, 43, 44, 45, 46, 47, 48, 49, 50, 51, 52, 53, 55, 56,\n",
    "       57, 58])\n",
    "plt.figure(figsize=(4,3))\n",
    "for o in orders:\n",
    "    I = data.index_order(o)\n",
    "    plt.plot(ol[I], res_2[I], '.', color=colors[o-orders[0]])"
   ]
  },
  {
   "cell_type": "markdown",
   "id": "7b22847e-f8c8-44ea-bf1f-d5a5e4c4c433",
   "metadata": {},
   "source": [
    "refitting all with order 54 removed"
   ]
  },
  {
   "cell_type": "code",
   "execution_count": null,
   "id": "9582e137-2d81-4949-ab84-aaf9c31faec9",
   "metadata": {},
   "outputs": [],
   "source": [
    "global_fit = np.polynomial.Polynomial.fit(sg.link_ol(ol), data.x, deg=4)\n",
    "res_1 = data.x - global_fit(sg.link_ol(ol))\n",
    "fit_polynomial2 = np.polynomial.Polynomial.fit(data.o, res_1, deg=3)\n",
    "res_2 = res_1 - fit_polynomial2(data.o)\n",
    "fit_polynomial3 = np.polynomial.Polynomial.fit(sg.link_ol(ol)*data.o, res_2, deg=2)\n",
    "res_3 = res_2 - fit_polynomial3(sg.link_ol(ol))\n",
    "plt.figure(figsize=(4,3))\n",
    "for o in orders:\n",
    "    I = data.index_order(o)\n",
    "    plt.plot(ol[I], res_3[I], '.', color=colors[o-orders[0]])"
   ]
  },
  {
   "cell_type": "code",
   "execution_count": null,
   "id": "4c3df42f-50c1-474c-ac2a-031718ce43a9",
   "metadata": {},
   "outputs": [],
   "source": [
    "o = 57   # play with me....\n",
    "I = data.index_order(o)\n",
    "poly = np.polynomial.Polynomial.fit(sg.link_ol(ol[I]), res_3[I], deg = 6)\n",
    "res_4 = res_3[I] - poly(sg.link_ol(ol[I]))\n",
    "\n",
    "sigma = data.sigma\n",
    "plt.figure(figsize=(5,4))\n",
    "plt.plot(ol[I], res_4, '.', color=colors[o-orders[0]])\n",
    "plt.show()"
   ]
  },
  {
   "cell_type": "markdown",
   "id": "84c6826c-e348-42c5-a00c-0ac8cbcdcc2c",
   "metadata": {},
   "source": [
    "Analysing residuum around polynomial for each order"
   ]
  },
  {
   "cell_type": "code",
   "execution_count": null,
   "id": "5b7b0d6e-3cc8-4127-b8ec-3d23e505fe8e",
   "metadata": {},
   "outputs": [],
   "source": [
    "o =29 # fell free to play with it...\n",
    "n =  6 # order of polynomial\n",
    "bins_abs = np.linspace(-1, 1, 21)\n",
    "bins_rel = np.linspace(-5, 5, 21)\n",
    "for o in orders:\n",
    "    I = data.index_order(o)\n",
    "    sig = np.sqrt(0.01 + data.sigma**2)\n",
    "    p = np.polynomial.Polynomial.fit(sg.link_ol(ol[I]), data.x[I], n, w=1./sig[I])\n",
    "    res = (data.x[I] - p(sg.link_ol(ol[I])))\n",
    "    #pd.cut(res, np.linspace(-4,4,5))\n",
    "    #res.hist(bins=10)\n",
    "    plt.figure(figsize=(5,2))\n",
    "    plt.subplot(131)\n",
    "    plt.title('abs '+str(o))\n",
    "    plt.hist(res, bins=bins_abs, range=(-0.5, 0.5))\n",
    "    plt.subplot(132)\n",
    "    plt.title('rel ' + str(o))\n",
    "    plt.hist(res/sig[I], bins=bins_rel, range=(-5,5))\n",
    "    plt.subplot(133)\n",
    "    plt.plot(data.l[I], res, '.', color=colors[o-orders[0]])\n",
    "plt.show()"
   ]
  },
  {
   "cell_type": "markdown",
   "id": "0dd41146-668e-4a83-87a6-a996ae18558a",
   "metadata": {},
   "source": [
    "### Outlier removal order by order\n",
    "criteria: absolut $\\epsilon < \\sigma_a$ and relative $\\epsilon/\\sigma < \\sigma_r$ \n",
    "We convert $\\sigma_a$ in errors of radial velocity using the formula\n",
    "$$\n",
    "\\delta_{rv} = \\gamma_o \\,\\sigma_a,\\quad \\gamma_o = 3\\cdot 10^8 \\frac{d\\lambda/dx}{\\lambda} = \\frac{3\\cdot 10^{8} }{\\lambda |dx/d\\lambda|_o}=\\frac{3\\cdot 10^{8} \\cdot o }{\\lambda |\\partial_{o\\lambda}x(o\\lambda, o)|}\n",
    "$$\n",
    "where $x=x(o\\lambda, o)$ is taken in linear global approximation"
   ]
  },
  {
   "cell_type": "code",
   "execution_count": null,
   "id": "6693eea8-d559-4760-bcd2-d14ec67e3bbf",
   "metadata": {},
   "outputs": [],
   "source": [
    "sigma_a = 0.5\n",
    "sigma_r = 3\n",
    "# global linear approximation\n",
    "p_lin = np.polynomial.Polynomial.fit(ol, data.x, deg=1)\n",
    "gamma_o = {o: o * 3e8 / (data.l[data.index_order(o)].mean() * p_lin.coef[1]) for o in orders}\n",
    "gamma = o * 3e8 / (data.l * p_lin.coef[1])\n",
    "plt.figure(figsize=(5,4))\n",
    "for o in orders:\n",
    "    plt.plot( [o], [gamma_o[o]], 'o', color=colors[o-orders[0]])\n",
    "plt.xlabel('order')\n",
    "plt.ylabel('average $\\gamma$ factor')\n",
    "plt.show()"
   ]
  },
  {
   "cell_type": "markdown",
   "id": "73fb08b7-0cd9-4ae4-b60f-8838e146c429",
   "metadata": {},
   "source": [
    "Therefore with a target resolution of $100 m/s$ the reuired precision depending on the order needs to be adjusted "
   ]
  },
  {
   "cell_type": "code",
   "execution_count": null,
   "id": "9768f1db-b168-4e1a-8d8f-f48a394d4f01",
   "metadata": {},
   "outputs": [],
   "source": [
    "delta_vr = np.linspace(0, 200, 50)\n",
    "Io = np.any([data.index_order(o) for o in orders], axis=0)\n",
    "plt.figure(figsize=(5,4))\n",
    "plt.plot(delta_vr, [ sum(gamma[Io] * data.sigma[Io] < d_vr) for d_vr in delta_vr])\n",
    "plt.title('theoretical precision per data')\n",
    "plt.xlabel('target rv precision')\n",
    "plt.ylabel('number of usable spectral lines')\n",
    "plt.show()"
   ]
  },
  {
   "cell_type": "code",
   "execution_count": null,
   "id": "8dcd5e09-17c8-43d3-923e-77cf2c054b9b",
   "metadata": {},
   "outputs": [],
   "source": [
    "delta_vr = np.linspace(0, 200, 50)\n",
    "Io = np.any([data.index_order(o) for o in orders], axis=0)\n",
    "plt.figure(figsize=(5,4))\n",
    "for o in orders:\n",
    "    I = data.index_order(o)\n",
    "    plt.plot(delta_vr, [ sum(gamma[I] * data.sigma[I] < d_vr) for d_vr in delta_vr], color=colors[o-orders[0]])\n",
    "plt.title('theoretical precision per data order by order')\n",
    "plt.xlabel('target rv precision')\n",
    "plt.ylabel('number of usable spectral lines')\n",
    "plt.show()"
   ]
  },
  {
   "cell_type": "markdown",
   "id": "6b0717f9-1066-4a54-b5d4-318a4ebf93e9",
   "metadata": {},
   "source": []
  },
  {
   "cell_type": "markdown",
   "id": "206038a1-c97b-468f-8a35-8899b02f9a76",
   "metadata": {},
   "source": [
    "# Two dimensional modeling"
   ]
  },
  {
   "cell_type": "markdown",
   "id": "7d5a6a8d-eb96-4164-a99f-627ec5f8c14e",
   "metadata": {},
   "source": []
  },
  {
   "cell_type": "code",
   "execution_count": null,
   "id": "39e6ea94-b54a-44c5-9e13-ae2961edf0f4",
   "metadata": {},
   "outputs": [],
   "source": []
  }
 ],
 "metadata": {
  "kernelspec": {
   "display_name": "Python 3 (ipykernel)",
   "language": "python",
   "name": "python3"
  },
  "language_info": {
   "codemirror_mode": {
    "name": "ipython",
    "version": 3
   },
   "file_extension": ".py",
   "mimetype": "text/x-python",
   "name": "python",
   "nbconvert_exporter": "python",
   "pygments_lexer": "ipython3",
   "version": "3.8.10"
  }
 },
 "nbformat": 4,
 "nbformat_minor": 5
}
