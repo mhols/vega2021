{
 "cells": [
  {
   "cell_type": "markdown",
   "id": "ff7667ee-666d-456f-a4a5-8737c19d9bac",
   "metadata": {},
   "source": [
    "# Selecting spectral lines"
   ]
  },
  {
   "cell_type": "code",
   "execution_count": null,
   "id": "4c8a0093-227b-4dc8-9c1b-7a99e8eb6208",
   "metadata": {},
   "outputs": [],
   "source": [
    "import pandas as pd\n",
    "import spectrograph as sg\n",
    "import matplotlib\n",
    "import matplotlib.pyplot as plt\n",
    "#from colorspacious import cspace_converter\n",
    "import numpy as np\n",
    "import scipy as sp\n",
    "import warnings\n",
    "warnings.filterwarnings('ignore')"
   ]
  },
  {
   "cell_type": "code",
   "execution_count": null,
   "id": "df6547a5-dfcb-46e6-836f-dfa25fd18e14",
   "metadata": {},
   "outputs": [],
   "source": [
    "%matplotlib inline\n",
    "%matplotlib notebook\n",
    "%reload_ext autoreload\n",
    "%autoreload 2"
   ]
  },
  {
   "cell_type": "code",
   "execution_count": null,
   "id": "0ceb2808-dd60-4692-9014-fcb0f5f3f652",
   "metadata": {},
   "outputs": [],
   "source": [
    "kwargs = {\n",
    "    \"datafile\": \"ThAr2D_voie_3_new.json\",\n",
    "    'bootstrap_data': False,\n",
    "    'n_bootstrap': 100,                             # number of bootstrap experiments\n",
    "    'profile': 'gauss',\n",
    "    'loss_function': 'loss_1',                     # weighted L2-loss\n",
    "    'save_bootstraped_data': False,\n",
    "    'bootstraped_file': 'ThAr2D_voie_3_new.json',\n",
    "    'epsilon_sigma_bootstrap': 3,         # locations with larger uncertainty are removed\n",
    "    'epsilon_sigma_clipp': 3,\n",
    "    'epsilon_sigma_clipp_2d' : 2,\n",
    "    'clipp_method' : 'rel_std',             # 'rel_std' or 'pixerror' or 'est_std'\n",
    "    'orders': np.arange(23, 59+1),          # orders to use, set None if taken from data\n",
    "    'palette_order': 'gist_rainbow',\n",
    "    'order_ol': 6,\n",
    "    'order_o': 7,\n",
    "    'n_sigma_clip' : 100,\n",
    "    'sigma_min' : 0.,                    # minimial sigma to avoid overfitting\n",
    "    'file_lambda_list': 'arturo.dat',\n",
    "}\n",
    "\n",
    "data = sg.CCD2d(**kwargs)\n",
    "data.sigma_clipping()"
   ]
  },
  {
   "cell_type": "code",
   "execution_count": null,
   "id": "51ba87da",
   "metadata": {},
   "outputs": [],
   "source": []
  },
  {
   "cell_type": "code",
   "execution_count": null,
   "id": "b84e38bc",
   "metadata": {},
   "outputs": [],
   "source": [
    "data.data"
   ]
  },
  {
   "cell_type": "markdown",
   "id": "cbada2b7-082c-4647-aae3-4aff227982b6",
   "metadata": {},
   "source": [
    "We now write all order as a single function $x = f(\\lambda o)$"
   ]
  },
  {
   "cell_type": "code",
   "execution_count": null,
   "id": "a533d7ec-f27e-44e9-ac22-1d060ee78b03",
   "metadata": {},
   "outputs": [],
   "source": [
    "plt.figure(figsize=(5,4))\n",
    "for o in data.get_orders():\n",
    "    I = data.index_order(o)\n",
    "    #print (data.x[I])\n",
    "    plt.plot(data.o[I]*data.l[I], data.x[I], 'o', color=data.color_of_order(o))"
   ]
  },
  {
   "cell_type": "markdown",
   "id": "7506f4e9-c06d-40ed-ac82-65ac44669c5a",
   "metadata": {},
   "source": [
    "Removing a first global polynomial of low order.."
   ]
  },
  {
   "cell_type": "code",
   "execution_count": null,
   "id": "8cb5e773-5798-4a00-a161-83c44f8d325b",
   "metadata": {},
   "outputs": [],
   "source": [
    "p = data.fit_global_polynomial(order_ol=4)\n",
    "ol = data.ol\n",
    "res_1 = data.x - data.eval_polynomial(ol, data.o)\n",
    "# plotting the residuum\n",
    "plt.figure(figsize=(4,3))\n",
    "for o in data.get_orders():\n",
    "    I = data.index_order(o)\n",
    "    plt.plot(ol[I], res_1[I], '.', color=data.color_of_order(o))"
   ]
  },
  {
   "cell_type": "code",
   "execution_count": null,
   "id": "28162e40",
   "metadata": {},
   "outputs": [],
   "source": [
    "n = len(data.o)\n",
    "data.sigma_clipping()\n",
    "m = len(data.o)\n",
    "print('number of datapoints before: ', n, '\\nnumber of datapoints after:    ', m)"
   ]
  },
  {
   "cell_type": "code",
   "execution_count": null,
   "id": "bacdfe2c",
   "metadata": {},
   "outputs": [],
   "source": [
    "pglobal = data.fit_global_polynomial(order_ol=4)\n",
    "data.fit_2d_polynomial()\n",
    "ols = np.linspace(data.ol.min(), data.ol.max(), 1024)\n",
    "res = data.eval_polynomial(data.ol, data.o) - pglobal(data.ol)\n",
    "\n",
    "# plotting the residuum\n",
    "plt.figure(figsize=(4,3))\n",
    "for o in data.get_orders():\n",
    "    I = data.index_order(o)\n",
    "    plt.plot(ols, data.eval_polynomial(ols, o*np.ones(ols.shape)) - pglobal(ols), '-k', linewidth=0.5)\n",
    "    plt.plot(data.ol[I], res[I], '.', color=data.color_of_order(o), markersize=2)"
   ]
  },
  {
   "cell_type": "code",
   "execution_count": null,
   "id": "2884357c",
   "metadata": {},
   "outputs": [],
   "source": [
    "ol = data.ol\n",
    "res = data.x - data.eval_polynomial(ol, data.o)\n",
    "# plotting the residuum\n",
    "plt.figure(figsize=(4,3))\n",
    "for o in data.get_orders():\n",
    "    I = data.index_order(o)\n",
    "    plt.plot(ol[I], res[I], '.', color=data.color_of_order(o))"
   ]
  },
  {
   "cell_type": "code",
   "execution_count": null,
   "id": "94a06312",
   "metadata": {},
   "outputs": [],
   "source": [
    "wavelist = data.get_lambda_list()\n",
    "plt.figure(figsize=(4,3))\n",
    "for i, o in enumerate(data.get_orders()):\n",
    "    plt.plot(np.arange(i*7800, (i+1)*7800), wavelist[i*7800:(i+1)*7800], '.', color=data.color_of_order(o))"
   ]
  },
  {
   "cell_type": "markdown",
   "id": "9589e33b-6084-4262-8d3a-11baf339d1e2",
   "metadata": {},
   "source": [
    "reducing by linear $o$ dependency\n",
    "$$\n",
    "x = P_1(ol)+P_2(o)\n",
    "$$\n",
    "Degree of $P_1$ is $4$, degree of $P_2$ is $2$."
   ]
  },
  {
   "cell_type": "code",
   "execution_count": null,
   "id": "0e15bd14-0b6a-429e-9f79-508318fedcf9",
   "metadata": {},
   "outputs": [],
   "source": [
    "fit_polynomial2 = np.polynomial.Polynomial.fit(data.o, res_1, deg=2)\n",
    "res_2 = res_1 - fit_polynomial2(data.o)\n",
    "# plotting the residuum\n",
    "plt.figure(figsize=(4,3))\n",
    "for o in data._orders: # original orders...\n",
    "    I = data.index_order(o)\n",
    "    plt.plot(ol[I], res_2[I], '.', color=data.color_of_order(o))\n",
    "    \n",
    "# single out the strange order....(plotted in cyan)\n",
    "o = 54\n",
    "I = data.index_order(o)\n",
    "plt.plot(ol[I], res_2[I], '.', color='k')\n",
    "plt.show()"
   ]
  },
  {
   "cell_type": "code",
   "execution_count": null,
   "id": "4c3df42f-50c1-474c-ac2a-031718ce43a9",
   "metadata": {},
   "outputs": [],
   "source": []
  },
  {
   "cell_type": "markdown",
   "id": "84c6826c-e348-42c5-a00c-0ac8cbcdcc2c",
   "metadata": {},
   "source": [
    "Analysing residuum around polynomial for each order"
   ]
  },
  {
   "cell_type": "code",
   "execution_count": null,
   "id": "5b7b0d6e-3cc8-4127-b8ec-3d23e505fe8e",
   "metadata": {},
   "outputs": [],
   "source": [
    "n =  6 # order of polynomial\n",
    "bins_abs = np.linspace(-1, 1, 21)\n",
    "bins_rel = np.linspace(-5, 5, 21)\n",
    "for o in data.get_orders():\n",
    "    I = data.index_order(o)\n",
    "    sig = np.sqrt(0.01 + data.sigma**2)\n",
    "    p = np.polynomial.Polynomial.fit(sg.link_ol(ol[I]), data.x[I], n, w=1./sig[I])\n",
    "    res = (data.x[I] - p(sg.link_ol(ol[I])))\n",
    "    #pd.cut(res, np.linspace(-4,4,5))\n",
    "    #res.hist(bins=10)\n",
    "    plt.figure(figsize=(5,2))\n",
    "    plt.subplot(131)\n",
    "    plt.title('abs '+str(o))\n",
    "    plt.hist(res, bins=bins_abs, range=(-0.5, 0.5))\n",
    "    plt.subplot(132)\n",
    "    plt.title('rel ' + str(o))\n",
    "    plt.hist(res/sig[I], bins=bins_rel, range=(-5,5))\n",
    "    plt.subplot(133)\n",
    "    #plt.plot(data.l[I], res, '.', color=)\n",
    "plt.show()"
   ]
  },
  {
   "cell_type": "markdown",
   "id": "0dd41146-668e-4a83-87a6-a996ae18558a",
   "metadata": {},
   "source": [
    "### Outlier removal order by order\n",
    "criteria: absolut $\\epsilon < \\sigma_a$ and relative $\\epsilon/\\sigma < \\sigma_r$ \n",
    "We convert $\\sigma_a$ in errors of radial velocity using the formula\n",
    "$$\n",
    "\\delta_{rv} = \\gamma_o \\,\\sigma_a,\\quad \\gamma_o = 3\\cdot 10^8 \\frac{d\\lambda/dx}{\\lambda} = \\frac{3\\cdot 10^{8} }{\\lambda |dx/d\\lambda|_o}=\\frac{3\\cdot 10^{8} \\cdot o }{\\lambda |\\partial_{o\\lambda}x(o\\lambda, o)|}\n",
    "$$\n",
    "where $x=x(o\\lambda, o)$ is taken in linear global approximation"
   ]
  },
  {
   "cell_type": "code",
   "execution_count": null,
   "id": "6693eea8-d559-4760-bcd2-d14ec67e3bbf",
   "metadata": {},
   "outputs": [],
   "source": [
    "sigma_a = 0.5\n",
    "sigma_r = 3\n",
    "orders = data.get_orders()\n",
    "\n",
    "# global linear approximation\n",
    "p_lin = np.polynomial.Polynomial.fit(data.ol, data.x, deg=1)\n",
    "gamma_o = {o: o * 3e8 / (data.l[data.index_order(o)].mean() * p_lin.coef[1]) for o in data.get_orders()}\n",
    "gamma = o * 3e8 / (data.l * p_lin.coef[1])\n",
    "plt.figure(figsize=(5,4))\n",
    "for o in orders:\n",
    "    plt.plot( [o], [gamma_o[o]], 'o', color=data.color_of_order(o))\n",
    "plt.xlabel('order')\n",
    "plt.ylabel('average $\\gamma$ factor')\n",
    "plt.show()"
   ]
  },
  {
   "cell_type": "markdown",
   "id": "73fb08b7-0cd9-4ae4-b60f-8838e146c429",
   "metadata": {},
   "source": [
    "Therefore with a target resolution of $100 m/s$ the reuired precision depending on the order needs to be adjusted "
   ]
  },
  {
   "cell_type": "code",
   "execution_count": null,
   "id": "9768f1db-b168-4e1a-8d8f-f48a394d4f01",
   "metadata": {},
   "outputs": [],
   "source": [
    "delta_vr = np.linspace(0, 200, 50)\n",
    "Io = np.any([data.index_order(o) for o in orders], axis=0)\n",
    "plt.figure(figsize=(5,4))\n",
    "plt.plot(delta_vr, [ sum(gamma[Io] * data.sigma[Io] < d_vr) for d_vr in delta_vr])\n",
    "plt.title('theoretical precision per data')\n",
    "plt.xlabel('target rv precision')\n",
    "plt.ylabel('number of usable spectral lines')\n",
    "plt.show()"
   ]
  },
  {
   "cell_type": "code",
   "execution_count": null,
   "id": "8dcd5e09-17c8-43d3-923e-77cf2c054b9b",
   "metadata": {},
   "outputs": [],
   "source": [
    "delta_vr = np.linspace(0, 200, 50)\n",
    "Io = np.any([data.index_order(o) for o in orders], axis=0)\n",
    "plt.figure(figsize=(5,4))\n",
    "for o in orders:\n",
    "    I = data.index_order(o)\n",
    "    plt.plot(delta_vr, [ sum(gamma[I] * data.sigma[I] < d_vr) for d_vr in delta_vr], color=data.color_of_order(o))\n",
    "plt.title('theoretical precision per data order by order')\n",
    "plt.xlabel('target rv precision')\n",
    "plt.ylabel('number of usable spectral lines')\n",
    "plt.show()"
   ]
  },
  {
   "cell_type": "markdown",
   "id": "143217f0",
   "metadata": {},
   "source": [
    "### 2D modeling\n",
    "\n",
    "Data is $x_n = g(o_n\\lambda, o_n) + f_{o_n}(o_n\\lambda_n) + \\epsilon_n$ with orders $o_n \\in [22, 58]$.\n",
    "We take the global shape model $g$ of the form\n",
    "$$\n",
    "g(o\\lambda,o) = \\sum_{k=0}^{N_k}\\sum_{i=0}^{N_i} C_{kmi} \\tilde T_i(o) \\tilde T_k(o\\lambda)\n",
    "$$\n",
    "with degree $N_k=2$ and $N_i=1$. This covers the space of full 2s polynomials of this low degree. This part has a Bayesian prior which is flat so this this part adapts freely\n",
    "$$\n",
    "\\mathbb{P}(C) \\sim 1\n",
    "$$\n",
    "The individual fluctuations $f_o$ for each order are higeher degree polynomials.\n",
    "$$\n",
    "f_o = \\sum_{m=0}^{N_r} D_{o, m} \\tilde T_m \n",
    "$$\n",
    "Here smootheness constraints are added.\n",
    "First we penalise the total size of fluctuations\n",
    "$$\n",
    "\\sum_o \\Vert f_o\\Vert^2 = \\sum |D_{o,m}|^2\n",
    "$$\n",
    "The difference between sucessive orders is controlled by\n",
    "$$\n",
    "\\sum_o \\Vert f_{o+1}-f_o \\Vert^2 = \\sum |D_{o+1,m}|^2 + |D_{o,m}|^2 - 2D_{o+1,m}D_{o,m}\n",
    "$$\n",
    "Here we have used the orthogonality of the Chebushev polynomials. \n",
    "To controll higher order smoothness in $o$ direction we also conisder the discrete Laplacian\n",
    "$$\n",
    "\\sum_o \\Vert f_{o+2}-2f_{o+1} + f_o \\Vert^2 =\n",
    "\\sum |D_{o+2, m}|^2 + 4|D_{o+1, m}|^2 + |D_{o,m}|^2 - 2 D_{o+2,m}D_{o+1,m} - 2 D_{o+1, m} D_{o,m} + D_{o+2,m}D_{o,m}\n",
    "$$\n",
    "These terms are quadratic forms, that can be cast into a matrix equation as\n",
    "$$\n",
    "\\sum_o \\Vert f_o\\Vert^2 = D^T \\mathbb{I} D,\\quad \\sum_o \\Vert f_{o+1}-f_o \\Vert^2 = D^T\\Gamma D,\\quad\n",
    "\\sum_o \\Vert f_{o+2}-2f_{o+1} + f_o \\Vert^2 = D^T \\Xi D\n",
    "$$"
   ]
  },
  {
   "cell_type": "code",
   "execution_count": null,
   "id": "a3b9d567",
   "metadata": {},
   "outputs": [],
   "source": [
    "Ni = 8 # orders of o\n",
    "Nk = 7 # orders of ol\n",
    "\n",
    "Nr = 10 # degree in olambda direction\n",
    "\n",
    "olrange = (ol.min(), ol.max())\n",
    "orange = (orders.min(), orders.max())\n",
    "I = np.identity(Nr+1)\n",
    "# Computing all Tchebyshev polynomials we need in ol\n",
    "Tsheb = [np.polynomial.chebyshev.Chebyshev(c, window=[-1,1], domain=olrange) for c in I]\n",
    "\n",
    "I = np.identity(Ni+1)\n",
    "Tshebo = [np.polynomial.chebyshev.Chebyshev(c, window=[-1,1], domain=orange) for c in I]\n",
    "ndata = len(data.data) # number of data\n",
    "G = np.zeros((ndata, (Nk+1)*(Ni+1)))\n",
    "\n",
    "ik = [(i, k) for i in range(Ni+1) for k in range(Nk+1)] # this fixes the order of basis\n",
    "\n",
    "for u, olol in enumerate(zip(ol, data.o)):\n",
    "    ooll, o = olol\n",
    "    for v, j in enumerate(ik):\n",
    "        i, k = j\n",
    "        G[u, v] = Tshebo[i](o)*Tsheb[k](ooll)\n",
    "\n",
    "s = 1./np.sqrt((1/gamma)**2 + data.sigma**2)\n",
    "\n",
    "def get_Gsme(I):\n",
    "    s = 1./np.sqrt((1/gamma)**2 + data.sigma**2)\n",
    "    return s[I][:, np.newaxis] * G[I,:]\n",
    "\n",
    "def fit_free_model(I):\n",
    "    smeG = get_Gsme(I)\n",
    "    C = np.linalg.lstsq(smeG, s[I] * data.x[I])[0]\n",
    "    return C, G\n",
    "\n"
   ]
  },
  {
   "cell_type": "markdown",
   "id": "977bdd21",
   "metadata": {},
   "source": [
    "## sigma clipping based on RV limit on each spectral line"
   ]
  },
  {
   "cell_type": "code",
   "execution_count": null,
   "id": "b19e32f1",
   "metadata": {},
   "outputs": [],
   "source": [
    "target_rv = 100\n",
    "I = Io\n",
    "Iold = I\n",
    "change = True\n",
    "\n",
    "rv = 10000\n",
    "\n",
    "while change:\n",
    "    C, G = fit_free_model(I)\n",
    "    dx = data.x - np.dot(G,C)\n",
    "    I = gamma * dx <= rv\n",
    "    I = I & Io\n",
    "    change = (not np.all( Iold == I)) | rv>target_rv\n",
    "    Iold = I\n",
    "    rv = int(0.2*(target_rv+1 + 4*rv)-0.1)\n",
    "\n",
    "Isigma_clipped = I\n",
    "print('remaining number of points', sum(I), rv)\n",
    "\n",
    "C, G = fit_free_model(Isigma_clipped)\n",
    "\n",
    "res_5 = data.x[Io] - np.dot(G,C)[Io]\n",
    "res_5\n",
    "plt.figure(figsize=(3,1))\n",
    "plt.hist(gamma[Io]*res_5, bins=np.linspace(-1000,1000,30))\n",
    "plt.show()\n",
    "\n",
    "def g(ol, o):\n",
    "    return sum([C[l]*Tshebo[ii](o) * Tsheb[kk](ol) for l, (ii, kk) in enumerate(ik)])\n",
    "\n",
    "def ggo(o):\n",
    "    \"\"\"\n",
    "    Chebysheb series at given o\n",
    "    \"\"\"\n",
    "    return sum([C[l]*Tshebo[ii](o) * Tsheb[kk] for l, (ii, kk) in enumerate(ik)])\n",
    "\n",
    "def ig(x, o):\n",
    "    \"\"\"\n",
    "    input:\n",
    "    :x: pixel position\n",
    "    :o: order\n",
    "    returns: \n",
    "    :ol: order X lambda\n",
    "    \"\"\"\n",
    "    # first order proxy\n",
    "    lloo = (C[0]*Tsheb[0]+C[1]*Tsheb[1]-x).roots()[0]\n",
    "    # polynome to solve\n",
    "    gg = ggo(o) - x\n",
    "    rts = gg.roots() # all roots\n",
    "    I = np.argmin(np.abs(rts-lloo))  # getting zero closest to lloo\n",
    "    return np.real(rts[I])\n",
    "\n",
    "res = data.x - g(ol, data.o)\n",
    "plt.figure(figsize=(4,3))\n",
    "for o in orders:\n",
    "    I = data.index_order(o) & Isigma_clipped\n",
    "    plt.plot(ol[I], res[I], '.', color=data.color_of_order(o))"
   ]
  },
  {
   "cell_type": "code",
   "execution_count": null,
   "id": "637819cc",
   "metadata": {},
   "outputs": [],
   "source": [
    "# p = np.polynomial.Polynomial.fit(ol[Isigma_clipped], data.x[Isigma_clipped], deg=4) \n",
    "# for plotting\n",
    "# alternatively the firs\n",
    "p = lambda ol: g(ol, min(orders))\n",
    "res = data.x[Isigma_clipped] - p(ol[Isigma_clipped])\n",
    "\n",
    "plt.figure(figsize=(4,3))\n",
    "ols = np.linspace(ol.min(), ol.max(), 1024)\n",
    "for o in set(data.o):\n",
    "    I = data.index_order(o) & Isigma_clipped\n",
    "    ols = np.linspace(ol.min(), ol.max(), 1024)\n",
    "    plt.plot(ols, g(ols, o) - p(ols), '-.', color='k', linewidth=0.5)\n",
    "    ols = np.linspace(ol[I].min(), ol[I].max(), 1024)\n",
    "    plt.plot(ols, g(ols, o) - p(ols), '-', color=data.color_of_order(o))\n",
    "    plt.plot(ol[I], res[I], '.', color=data.color_of_order(o))\n",
    "plt.ylim(0,175)\n",
    "plt.show()\n"
   ]
  },
  {
   "cell_type": "code",
   "execution_count": null,
   "id": "ca1f5ce5",
   "metadata": {},
   "outputs": [],
   "source": [
    "x = np.arange(74)\n",
    "oo = np.arange(data.o.min(), data.o.max()+1)\n",
    "ordermap = [ ig(xx,o)/o for o in oo for xx in x ]"
   ]
  },
  {
   "cell_type": "code",
   "execution_count": null,
   "id": "c635b5b6",
   "metadata": {},
   "outputs": [],
   "source": [
    "import scipy.interpolate as scip\n",
    "olams = np.linspace(ol.min()/1.01, 1.01*ol.max(), 10007)\n",
    "x = np.arange(7800)\n",
    "\n",
    "res = []\n",
    "wavemap = {}\n",
    "for o in data.get_orders():\n",
    "    # g(o*lams, o) # liefert zu den lams die x\n",
    "    p = scip.interp1d( g(olams, o), olams)\n",
    "    tmp = list(p(x)/o)\n",
    "    wavemap[o] = np.array(tmp)\n",
    "    res += tmp\n",
    "res = np.array(res)"
   ]
  },
  {
   "cell_type": "code",
   "execution_count": null,
   "id": "7ee226bb",
   "metadata": {},
   "outputs": [],
   "source": [
    "plt.figure(figsize=(3,2))\n",
    "\n",
    "plt.plot(res, '.')"
   ]
  },
  {
   "cell_type": "code",
   "execution_count": null,
   "id": "1ce350e0",
   "metadata": {},
   "outputs": [],
   "source": [
    "# poor mans inversi\n",
    "res = np.zeros(39*7800)\n",
    "i = 0\n",
    "for o in range(21, 60):\n",
    "    print('working on order ', o)\n",
    "    for x in range(7800):\n",
    "        res[i] = ig(x, o)/o\n",
    "        i +=1\n",
    "res"
   ]
  },
  {
   "cell_type": "code",
   "execution_count": null,
   "id": "da5e2e6c",
   "metadata": {},
   "outputs": [],
   "source": [
    "xx = np.arange(len(ordermap))\n",
    "plt.figure(figsize=(3,2))\n",
    "\n",
    "plt.plot(np.mod(xx,74), ordermap, '.')\n",
    "plt.show()"
   ]
  },
  {
   "cell_type": "markdown",
   "id": "206038a1-c97b-468f-8a35-8899b02f9a76",
   "metadata": {},
   "source": [
    "# Two dimensional modeling"
   ]
  },
  {
   "cell_type": "markdown",
   "id": "7d5a6a8d-eb96-4164-a99f-627ec5f8c14e",
   "metadata": {},
   "source": []
  },
  {
   "cell_type": "code",
   "execution_count": null,
   "id": "39e6ea94-b54a-44c5-9e13-ae2961edf0f4",
   "metadata": {},
   "outputs": [],
   "source": [
    "ik"
   ]
  },
  {
   "cell_type": "code",
   "execution_count": null,
   "id": "01abce7d",
   "metadata": {},
   "outputs": [],
   "source": [
    "(300+sum(np.array([1,2,-3]) * Tsheb[:3])).roots()"
   ]
  },
  {
   "cell_type": "code",
   "execution_count": null,
   "id": "fcfe37de",
   "metadata": {},
   "outputs": [],
   "source": [
    "sum(np.array([1,2,-3]) * Tsheb[:3])(np.array([195696.38775984, 257292.42171349]))"
   ]
  },
  {
   "cell_type": "code",
   "execution_count": null,
   "id": "af1c2df3",
   "metadata": {},
   "outputs": [],
   "source": [
    "Gs = get_Gsme(Isigma_clipped)\n",
    "GtG = np.dot(Gs.T,Gs)\n",
    "\n",
    "def var_ol_o(ol, o):\n",
    "    \"\"\"\n",
    "    posterior variance / estimation variance at ol, o\n",
    "    \"\"\"\n",
    "    xx = [Tshebo[ii](o)*Tsheb[kk](ol) for (ii,kk) in ik ]\n",
    "    return np.dot(xx, np.linalg.solve(GtG,xx))\n",
    "\n",
    "np.sqrt(var_ol_o(222000, 55))"
   ]
  },
  {
   "cell_type": "markdown",
   "id": "83b75a26",
   "metadata": {},
   "source": [
    "# FP analysis"
   ]
  },
  {
   "cell_type": "code",
   "execution_count": null,
   "id": "0e4bb6c6",
   "metadata": {},
   "outputs": [],
   "source": [
    "kwargs.update({'fp_file': 'FP_voie_3.dat.json', 'ccd2d' : data, \n",
    "              'cutoff_fp_flux' : 100,\n",
    "              'fp_window': 3})\n",
    "\n",
    "import spectrograph as sg\n",
    "fp = sg.FP(**kwargs)"
   ]
  },
  {
   "cell_type": "code",
   "execution_count": null,
   "id": "53c57024",
   "metadata": {},
   "outputs": [],
   "source": [
    "# checking the data\n",
    "plt.figure(figsize=(3,2))\n",
    "t = 1./fp.lam_at_order(55)\n",
    "plt.plot(t / np.median(t[1:]-t[:-1]), fp.flux_at_order(49))"
   ]
  },
  {
   "cell_type": "code",
   "execution_count": null,
   "id": "2cf8eae4",
   "metadata": {},
   "outputs": [],
   "source": [
    "tmp=pd.concat([\n",
    "    pd.DataFrame({'peakf': pd.Series(tf['peakf'][tf['locmax']]), \n",
    "                  'o': o,\n",
    "                 }) \n",
    "                for o, tf in [(o, fp.extract_fp_peaks_at_order(o)) \n",
    "                    for o in fp.ccd.get_orders()\n",
    "                ] \n",
    "    ]).sort_values(by='peakf')\n",
    "#tmp.reset_index(inplace=True)\n",
    "tmp['d'] = tmp['peakf'].diff()\n",
    "tmp['dd'] = tmp['d']/tmp['d'].median()\n",
    "tmp['ndd'] = np.int64(tmp['dd'].round())\n",
    "tmp['ndd'].iloc[0] = 0\n",
    "tmp['mm'] = tmp['ndd'].cumsum()\n",
    "\n",
    "tmp.set_index(['o'], inplace=True)\n",
    "for o in pf.ccd.get_orders():\n",
    "    titi = tmp.loc[o].sort_value('peakf')\n",
    "    \n",
    "\n",
    "#plt.figure(figsize=(2,2))\n",
    "#plt.plot(tmp['peakf'].values/tmp['d'].median(), tmp['dd'].values, '.')"
   ]
  },
  {
   "cell_type": "code",
   "execution_count": null,
   "id": "b6fbb318",
   "metadata": {},
   "outputs": [],
   "source": [
    "try:\n",
    "    tmp = tmp.set_index(['o'])\n",
    "except:\n",
    "    pass\n",
    "p = np.polynomial.Polynomial.fit(tmp['mm'], tmp['peakf'], deg=1)\n",
    "\n",
    "plt.figure(figsize=(3,2))\n",
    "for o in set(tmp.index):\n",
    "    plt.plot(tmp['mm'].loc[o], (tmp['peakf'].loc[o]-p(tmp['mm'].loc[o]))/tmp['d'].median(), '.', color=fp.ccd.color_of_order(o))\n"
   ]
  },
  {
   "cell_type": "code",
   "execution_count": null,
   "id": "c2df794f",
   "metadata": {},
   "outputs": [],
   "source": [
    "tmp = tmp.reset_index()\n",
    "tmp = tmp.set_index(['mm', 'o'])\n",
    "tmp.loc[[50], 'peakf']"
   ]
  },
  {
   "cell_type": "code",
   "execution_count": null,
   "id": "02bdde99",
   "metadata": {},
   "outputs": [],
   "source": [
    "tmp.index"
   ]
  },
  {
   "cell_type": "code",
   "execution_count": null,
   "id": "ea950675",
   "metadata": {},
   "outputs": [],
   "source": []
  },
  {
   "cell_type": "code",
   "execution_count": null,
   "id": "4b9df18c",
   "metadata": {},
   "outputs": [],
   "source": [
    "plt.figure(figsize=(3,2))\n",
    "tmp = 1./fp.extract_fp_peaks_at_order(49)\n",
    "d = np.abs(tmp[1:]-tmp[:-1])\n",
    "plt.plot(d/np.median(d))"
   ]
  },
  {
   "cell_type": "code",
   "execution_count": null,
   "id": "425b3516",
   "metadata": {},
   "outputs": [],
   "source": [
    "import json\n",
    "import numpy as np\n",
    "fpdata = json.load(open('FP_voie_3.dat.json','r'))\n",
    "\n",
    "def flux_at_order(o):\n",
    "    return np.array(fpdata[o-23]['flux3'])\n",
    "\n",
    "def local_maxima_pixel(o):\n",
    "    flux = flux_at_order(o)\n",
    "    I, = np.where(np.logical_and(flux[:-2] <= flux[1:-1], flux[1:-1]>=flux[2:]))\n",
    "    I +=1\n",
    "    \n",
    "    I = I[flux[I]>50] # simple spourious maxima removal\n",
    "    r = 3\n",
    "    snipp = flux[(I[:, np.newaxis] + np.arange(-r,r+1)).T]\n",
    "    p = np.polyfit(np.arange(-r,r+1), snipp, deg=2)\n",
    "    delta = -p[1]/(2*p[0])\n",
    "    n = np.arange(len(flux))\n",
    "    pixpos = n[I]+delta\n",
    "    return pixpos\n",
    "\n",
    "def local_maxima_lamda(o):\n",
    "    pixpos = local_maxima_pixel(o)\n",
    "    p = data.lambda_map_at_o(o)\n",
    "    return p(pixpos)\n",
    "\n",
    "def d1(x):\n",
    "    return x[1:]-x[:-1]\n",
    "\n",
    "def local_median(t, n=50):\n",
    "    return np.median(t)\n",
    "\n",
    "\n",
    "def match(t, mt, u, mu):\n",
    "    \n",
    "    dt = None\n",
    "    if np.max(t) < np.min(t):  # overlap\n",
    "        pass\n",
    "        \n",
    "def relative_orders(lot, n=50):\n",
    "    \"\"\"\n",
    "    lot: list of times\n",
    "    \"\"\"\n",
    "    \n",
    "    m = np.arange(len(times))\n",
    "    while True:\n",
    "        dt = local_median(d1(times)/(1+d1(m)), n)\n",
    "        \n",
    "        \n",
    "        \n",
    "    dtimes = d1(times)\n",
    "    #nn = pd.where(dtimes<)\n",
    "    dt = np.median(d1(times)[:n])\n",
    "    res = [0]\n",
    "    m = 0\n",
    "    for i in range(n):\n",
    "        times[i+1]-times[i]"
   ]
  },
  {
   "cell_type": "code",
   "execution_count": null,
   "id": "03f6eebe",
   "metadata": {},
   "outputs": [],
   "source": [
    "# local maxima\n",
    "order = 52\n",
    "norder =  order - 23\n",
    "r = 3 # -r : r+1 for local snippet\n",
    "lam = np.array(fpdata[norder]['wave3'])\n",
    "flux = np.array(fpdata[norder]['flux3'])\n",
    "I, = np.where(np.logical_and(flux[:-2] <= flux[1:-1], flux[1:-1]>=flux[2:]))\n",
    "I +=1\n",
    "\n",
    "\n",
    "fpdata[norder]['true_order_number']"
   ]
  },
  {
   "cell_type": "code",
   "execution_count": null,
   "id": "1e023163",
   "metadata": {},
   "outputs": [],
   "source": [
    "plt.figure(figsize=(4,3))\n",
    "plt.plot(flux[I], '.')"
   ]
  },
  {
   "cell_type": "code",
   "execution_count": null,
   "id": "f6dd4ac7",
   "metadata": {},
   "outputs": [],
   "source": [
    "I = I[flux[I]>10]"
   ]
  },
  {
   "cell_type": "code",
   "execution_count": null,
   "id": "8fc6b48b",
   "metadata": {},
   "outputs": [],
   "source": [
    "plt.figure(figsize=(4,3))\n",
    "plt.plot(lam, flux)\n",
    "plt.vlines(lam[I], 0, 1500, color='r')\n",
    "plt.xlim(lam[I].min(), lam[I].min()+10)\n",
    "plt.show()"
   ]
  },
  {
   "cell_type": "code",
   "execution_count": null,
   "id": "3a57e06a",
   "metadata": {},
   "outputs": [],
   "source": [
    "plt.figure()\n",
    "plt.plot(I[:-1], I[1:]-I[:-1])"
   ]
  },
  {
   "cell_type": "code",
   "execution_count": null,
   "id": "d3191cf7",
   "metadata": {},
   "outputs": [],
   "source": [
    "snipp = flux[(I[:, np.newaxis] + np.arange(-r,r+1)).T]\n",
    "snipl = lam[(I[:, np.newaxis] + np.arange(-r,r+1)).T]"
   ]
  },
  {
   "cell_type": "code",
   "execution_count": null,
   "id": "9985e27b",
   "metadata": {},
   "outputs": [],
   "source": [
    "plt.figure(figsize=(4,2))\n",
    "for i in range(40):\n",
    "    s = snipp[:, i]\n",
    "    plt.plot(s)"
   ]
  },
  {
   "cell_type": "code",
   "execution_count": null,
   "id": "375b4e97",
   "metadata": {},
   "outputs": [],
   "source": [
    "p = np.polyfit(np.arange(-r,r+1), snipp, deg=2)"
   ]
  },
  {
   "cell_type": "code",
   "execution_count": null,
   "id": "531db308",
   "metadata": {},
   "outputs": [],
   "source": [
    "p.shape"
   ]
  },
  {
   "cell_type": "code",
   "execution_count": null,
   "id": "13d8967c",
   "metadata": {},
   "outputs": [],
   "source": [
    "delta = -p[1]/(2*p[0])"
   ]
  },
  {
   "cell_type": "code",
   "execution_count": null,
   "id": "585f184b",
   "metadata": {},
   "outputs": [],
   "source": [
    "plt.figure(figsize=(3,3))\n",
    "plt.plot(flux)\n",
    "n = np.arange(len(flux))\n",
    "plt.vlines(n[I]+delta, 0, 500, color='r')\n",
    "plt.xlim(I[330]-30, I[340]+30)\n",
    "plt.show()"
   ]
  },
  {
   "cell_type": "code",
   "execution_count": null,
   "id": "5f0445cb",
   "metadata": {},
   "outputs": [],
   "source": [
    "\n",
    "\n",
    "pixpos = n[I]+delta\n",
    "\n",
    "plt.figure(figsize=(3,2))\n",
    "plt.plot(pixpos[1:]-pixpos[:-1], '.')\n",
    "plt.show()"
   ]
  },
  {
   "cell_type": "code",
   "execution_count": null,
   "id": "25ddb2bd",
   "metadata": {},
   "outputs": [],
   "source": [
    "plt.figure(figsize=(4,3))\n",
    "plt.plot(delta, '-')"
   ]
  },
  {
   "cell_type": "code",
   "execution_count": null,
   "id": "782280c0",
   "metadata": {},
   "outputs": [],
   "source": [
    "np.interp(n, lam)\n",
    "plt.figure()\n",
    "plt.plot(n[I] + delta)"
   ]
  },
  {
   "cell_type": "code",
   "execution_count": null,
   "id": "2ffd0692",
   "metadata": {},
   "outputs": [],
   "source": [
    "wavemap = data.get_lambda_map()\n",
    "o = data.get_orders()\n",
    "\n",
    "n = 20\n",
    "oo = o[n]\n",
    "\n",
    "print(oo)\n",
    "#lam1 = np.array(fpdata[norder]['wave3'])\n",
    "flux1 = np.array(fpdata[n]['flux3'])\n",
    "#lam2 = np.array(fpdata[norder+1]['wave3'])\n",
    "flux2 = np.array(fpdata[n+1]['flux3'])\n",
    "\n",
    "plt.figure(figsize=(4,2))\n",
    "plt.plot( wavemap[oo], flux1)\n",
    "plt.plot( wavemap[oo+1], flux2)\n",
    "#plt.xlim((5150, 5220))\n",
    "#plt.plot(flux1)\n",
    "#plt.plot(flux2)"
   ]
  },
  {
   "cell_type": "code",
   "execution_count": null,
   "id": "4bc7e737",
   "metadata": {},
   "outputs": [],
   "source": [
    "plt.figure(figsize=(3,4))\n",
    "plt.plot(wavemap[23])\n",
    "plt.plot(wavemap[24])"
   ]
  },
  {
   "cell_type": "code",
   "execution_count": null,
   "id": "a98ae244",
   "metadata": {},
   "outputs": [],
   "source": [
    "n = np.arange(7800)\n",
    "\n",
    "\n",
    "llams = []\n",
    "\n",
    "plt.figure(figsize=(4,3))\n",
    "for norder, o in enumerate(data.get_orders()):\n",
    "    lam = np.array(fpdata[norder]['wave3'])\n",
    "    flux = np.array(fpdata[norder]['flux3'])\n",
    "    I, = np.where(np.logical_and(flux[:-2] <= flux[1:-1], flux[1:-1]>=flux[2:]))\n",
    "    I +=1\n",
    "    I = I[flux[I]>50]\n",
    "    \n",
    "    r = 3\n",
    "    snipp = flux[(I[:, np.newaxis] + np.arange(-r,r+1)).T]\n",
    "    p = np.polyfit(np.arange(-r,r+1), snipp, deg=2)\n",
    "    delta = -p[1]/(2*p[0])\n",
    "\n",
    "    pixmap = data.lambda_map_at_o(o)\n",
    "    pixpos = n[I]+delta\n",
    "    \n",
    "    lams = pixmap(pixpos)\n",
    "    llams += list(lams)\n",
    "    \n",
    "    d = 0.5 * lams[1:]*lams[:-1]/(lams[1:]-lams[:-1])\n",
    "    \n",
    "    print (o, np.median(d))\n",
    "    \n",
    "    plt.plot( 0.5*(lams[:-1]+lams[1:]),d, '.', \n",
    "             color=data.color_of_order(o), \n",
    "             markersize=0.5)\n",
    "    #plt.ylim([0, 0.25e-7])\n",
    "    \n",
    "    #plt.plot(1/lams)"
   ]
  },
  {
   "cell_type": "code",
   "execution_count": null,
   "id": "1f9ab9d4",
   "metadata": {},
   "outputs": [],
   "source": [
    "m = np.arange(300, 1000)\n",
    "d = 1 + 0.01*np.sin(m/200)\n",
    "lam = 2*d/(1.0*m)\n",
    "\n",
    "dd = -2*(lam[1:]-lam[:-1])/ (lam[1:]*lam[:-1])\n",
    "\n",
    "\n",
    "\n",
    "plt.figure(figsize=(2,1))\n",
    "# plt.plot(dd)\n",
    "plt.plot( lam[:-1], dd)\n",
    "plt.plot( lam[:-1], d[:-1])\n",
    "plt.ylim([0.5, 1.2])"
   ]
  },
  {
   "cell_type": "code",
   "execution_count": null,
   "id": "d135737a",
   "metadata": {},
   "outputs": [],
   "source": [
    "plt.figure(figsize=(3,2))\n",
    "llams = np.array(llams)\n",
    "dllams = llams[1:]/(llams[1:]-llams[:-1])\n",
    "\n",
    "plt.plot(dllams, '.')"
   ]
  },
  {
   "cell_type": "code",
   "execution_count": null,
   "id": "c522038a",
   "metadata": {},
   "outputs": [],
   "source": [
    "plt.figure(figsize=(3,2))\n",
    "for o in data.get_orders():\n",
    "    I = data.index_order(o)\n",
    "    p = data.lambda_map_at_o(o)\n",
    "    lpol = p(data.x[I])\n",
    "    lms  = data.l[I]\n",
    "    rms = 3e7 * (lpol-lms)/lms\n",
    "    plt.plot(lms, rms, '.', color = data.color_of_order(o))"
   ]
  },
  {
   "cell_type": "code",
   "execution_count": null,
   "id": "c4639a6b",
   "metadata": {},
   "outputs": [],
   "source": [
    "plt.figure(figsize=(3,2))\n",
    "data.fit_2d_polynomial()\n",
    "for o in data.get_orders():\n",
    "    I = data.index_order(o)\n",
    "    p = data.polynomial_fit[o]\n",
    "    xpol = p(o*data.l[I])\n",
    "    plt.plot(data.l[I], (xpol-data.x[I])/data.sigma[I], '.', color = data.color_of_order(o))"
   ]
  },
  {
   "cell_type": "code",
   "execution_count": null,
   "id": "dcaf052f",
   "metadata": {},
   "outputs": [],
   "source": [
    "plt.figure()\n",
    "plt.plot(data.sigma)"
   ]
  },
  {
   "cell_type": "code",
   "execution_count": null,
   "id": "a3d739ec",
   "metadata": {},
   "outputs": [],
   "source": [
    "o = 40\n",
    "data.fit_2d_polynomial()\n",
    "pixpos = local_maxima_pixel(o)\n",
    "p = data.lambda_map_at_o(o)\n",
    "\n",
    "lams = p(pixpos)\n",
    "m = m0 - np.arange(len(lams))\n",
    "\n",
    "plt.figure(figsize=(3,2))\n",
    "\n",
    "for o in data.get_orders():\n",
    "    pixpos = local_maxima_pixel(o)\n",
    "    p = data.lambda_map_at_o(o)\n",
    "\n",
    "    lams = p(pixpos)\n",
    "    ilams =  1./lams\n",
    "    mm0 = np.arange(5000, 25000)\n",
    "    m = mm0[np.newaxis,:] - np.arange(len(lams))[:, np.newaxis]\n",
    "    \n",
    "    d = ilams[:,np.newaxis] / m\n",
    "    \n",
    "    i = np.argmin(np.std(d, axis = 0))\n",
    "    \n",
    "    # print(mm0[i])\n",
    "\n",
    "    plt.plot(lams, 0.5*m[:, i]/ilams)\n",
    "    \n",
    "    #m = np.arange(len(lams))\n",
    "    #ilams = 1/lams\n",
    "    #plt.plot(0.5/(ilams[1:]-ilams[:-1]), '.')"
   ]
  },
  {
   "cell_type": "code",
   "execution_count": null,
   "id": "2dc9af22",
   "metadata": {},
   "outputs": [],
   "source": []
  },
  {
   "cell_type": "markdown",
   "id": "81ac89ce",
   "metadata": {},
   "source": [
    "###### m0=15858\n",
    "plt.figure(figsize=(3,2))\n",
    "plt.plot()"
   ]
  },
  {
   "cell_type": "code",
   "execution_count": null,
   "id": "57302124",
   "metadata": {},
   "outputs": [],
   "source": [
    "plt.figure(figsize=(3,2))\n",
    "\n",
    "res = {}\n",
    "used_orders=[]\n",
    "for o in data.get_orders():\n",
    "    lams = local_maxima_lamda(o)\n",
    "    if lams.shape[0] == 0:\n",
    "        continue\n",
    "    ilams = 1./lams\n",
    "    d = np.median(d1(ilams))\n",
    "    dm = d1(ilams)/d\n",
    "    \n",
    "    jump = np.round(dm).astype('int')\n",
    "    index = np.zeros_like(lams)\n",
    "    index[1:]+=np.cumsum(jump[::-1])\n",
    "    index = index[::-1]\n",
    "    res[o] = (index, ilams)\n",
    "    used_orders.append(o)\n",
    "\n",
    "for i in range(len(used_orders[:-1])):\n",
    "    o1 = used_orders[i]\n",
    "    o2 = used_orders[i+1]\n",
    "    index1, ilams1 = res[o1]\n",
    "    index2, ilams2 = res[o2]\n",
    "    \n",
    "    index2 += index1.max()\n",
    "    \n",
    "    # match last peak...\n",
    "    #i = np.argmin(np.abs(ilams2[-1], ilams))\n",
    "    \n",
    "    \n",
    "    \n",
    "    m = np.arange(-500, 500)\n",
    "    p = np.polyfit(index1, ilams1, deg=1)\n",
    "    \n",
    "    tmp = np.polyval(p, index2[:, np.newaxis]+m[np.newaxis,:]) - ilams2[:, np.newaxis]\n",
    "    i = np.argmin(np.sum(np.abs(tmp), axis=0))\n",
    "    \n",
    "    index2 = index2 + m[i]\n",
    "    res[o2] = (index2, ilams2)\n",
    "    \n",
    "index, ilams = res[used_orders[0]]\n",
    "p = np.polyfit(index, ilams, deg=1)\n",
    "m0 = int(p[1]/p[0])\n",
    "\n",
    "\n",
    "for m in range(8, 18):\n",
    "    tmp = []\n",
    "    for o in res:\n",
    "        index, ilams =  res[o]\n",
    "        d = 0.5*(m0+m+index)/ilams\n",
    "        tmp+=list(d)\n",
    "    mn = np.mean(tmp)\n",
    "    \n",
    "    for o in res:\n",
    "        index, ilams = res[o]\n",
    "        d = 0.5*(m0+m+index)/ilams\n",
    "        plt.plot(index, d, '-', markersize=0.5, color=data.color_of_order(o))\n",
    "    "
   ]
  },
  {
   "cell_type": "code",
   "execution_count": null,
   "id": "aec0dc6b",
   "metadata": {},
   "outputs": [],
   "source": [
    "\n",
    "times = []\n",
    "for o in data.get_orders():\n",
    "    times += list(local_maxima_lamda(o)[::-1])\n",
    "times = 1./np.array(times)"
   ]
  },
  {
   "cell_type": "code",
   "execution_count": null,
   "id": "5d26490e",
   "metadata": {},
   "outputs": [],
   "source": [
    "#plt.figure(figsize=(2,3))\n",
    "#plt.plot(times, '.')"
   ]
  },
  {
   "cell_type": "code",
   "execution_count": null,
   "id": "a89baa13",
   "metadata": {},
   "outputs": [],
   "source": [
    "import json\n",
    "import numpy as np\n",
    "fpdata = json.load(open('FP_voie_3.dat.json','r'))\n",
    "\n",
    "\n",
    "\n",
    "def flux_at_order(pf, o):\n",
    "    return pf['flux3'][pf['true_order_number']==o]\n",
    "\n",
    "def local_maxima_pixel(flux):\n",
    "    I, = np.where(np.logical_and(flux[:-2] <= flux[1:-1], flux[1:-1]>=flux[2:]))\n",
    "    I += 1\n",
    "    \n",
    "    alpha = 0.1\n",
    "    fluxmin = alpha * np.max(flux[I])\n",
    "    #print(fluxmin)\n",
    "    fluxmin = 50\n",
    "    I = I[flux[I]>fluxmin] # simple spourious maxima removal\n",
    "    r = 3\n",
    "    I = I[I<len(flux)-r]\n",
    "    II = (I[:, np.newaxis] + np.arange(-r,r+1)).T\n",
    "    \n",
    "    snipp = flux[II]\n",
    "    p = np.polyfit(np.arange(-r,r+1), snipp, deg=2)\n",
    "    delta = -p[1]/(2*p[0])\n",
    "    n = np.arange(len(flux))\n",
    "    pixpos = n[I]+delta\n",
    "    return pixpos\n",
    "\n",
    "def local_maxima_lambda(flux, o):\n",
    "    pixpos = local_maxima_pixel(flux)\n",
    "    p = data.lambda_map_at_o(o)\n",
    "    return p(pixpos)\n",
    "\n",
    "def d1(x):\n",
    "    return x[1:]-x[:-1]\n",
    "\n",
    "def local_index(times):\n",
    "    mm = np.arange(len(times))\n",
    "    m = np.zeros(len(times), dtype=int)\n",
    "    # times = np.array(pfdata['times'])\n",
    "    #while not np.all(mm==m):\n",
    "    for i in range(1):    \n",
    "        m = mm\n",
    "        I = d1(m)>0\n",
    "        dt = np.median(d1(times)[I]/(d1(m)[I]))\n",
    "        dt = np.abs(dt)\n",
    "        mm = np.zeros(m.shape, dtype=int)\n",
    "        tmp=np.round(d1(times)/dt)\n",
    "        mm[1:] = np.cumsum(tmp)\n",
    "    \n",
    "    #pfdata['m'] = mm\n",
    "    return mm\n",
    "\n",
    "newpfdata = pd.concat([ pd.DataFrame({\n",
    "        'true_order_number': int(r['true_order_number']),\n",
    "        'wave3': pd.Series(r['wave3']),\n",
    "        'flux3': pd.Series(r['flux3'])\n",
    "    }) for r in fpdata if len(r)>0]\n",
    ")\n",
    "\n",
    "\n",
    "times = pd.concat( [ pd.DataFrame( {\n",
    "    'times' : 1./local_maxima_lambda(\n",
    "            np.array(r['flux3']), \n",
    "            r['true_order_number']),\n",
    "    'true_order_number': r['true_order_number']}\n",
    "    )\n",
    "    for r in fpdata\n",
    "])\n",
    "\n",
    "times.sort_values(by='times', inplace=True)\n",
    "times.reset_index(inplace=True)\n",
    "m = local_index(times['times'].values)\n",
    "times['m'] = m\n",
    "plt.figure(figsize=(3,2))\n",
    "p = np.polynomial.Polynomial.fit(m,times['times'], deg=1)\n",
    "for o in data.get_orders():\n",
    "    tmp = times[times['true_order_number']==o]\n",
    "    \n",
    "    I = d1(tmp['m'].values)==1\n",
    "    plt.plot(tmp['m'][:-1][I], (tmp['times']-p(tmp['m']))[:-1][I]/np.median(d1(tmp['times'].values)), '-', color=data.color_of_order(o))\n",
    "    #plt.plot(tmp['m'][1:][I], (tmp['times']-p(tmp['m']))[1:][I]/np.median(d1(tmp['times'].values)), '.', color=data.color_of_order(o))\n",
    "    "
   ]
  },
  {
   "cell_type": "code",
   "execution_count": null,
   "id": "d67cbac9",
   "metadata": {},
   "outputs": [],
   "source": [
    "tmp = times['times'].values\n",
    "plt.figure(figsize=(3,2))\n",
    "for o in data.get_orders():\n",
    "    plt.plot(times.index[times['true_order_number']==o][:-1], d1(tmp[times['true_order_number']==o])/np.median(d1(tmp)), color=data.color_of_order(o))"
   ]
  },
  {
   "cell_type": "code",
   "execution_count": null,
   "id": "bb2e7335",
   "metadata": {},
   "outputs": [],
   "source": [
    "#newpfdata['m'] = local_index(newpfdata['times'].values)\n",
    "\n",
    "times = newpfdata['times']\n",
    "\n",
    "m = local_index()\n",
    "                \n",
    "plt.figure(figsize=(3,2))\n",
    "#times = newpfdata['times'].values\n",
    "#m = np.array(newpfdata['m'])\n",
    "#times = times/np.median(d1(times))\n",
    "p = np.polynomial.Polynomial.fit(m, times, deg=1)\n",
    "I = d1(m)==0\n",
    "nI = d1(m)!=0\n",
    "\n",
    "#plt.plot(m[:-1][I], times[:-1][I]-p(m[:-1][I]), '.')\n",
    "#plt.plot(m[1:][nI], times[1:][nI]-p(m[1:][nI]), '.')\n",
    "\n",
    "times\n",
    "\n",
    "plt.plot(times, '.')"
   ]
  },
  {
   "cell_type": "code",
   "execution_count": null,
   "id": "72fd46ba",
   "metadata": {},
   "outputs": [],
   "source": [
    "times['times']"
   ]
  },
  {
   "cell_type": "code",
   "execution_count": null,
   "id": "0dceba5d",
   "metadata": {},
   "outputs": [],
   "source": [
    "plt.figure(figsize=(3,2))\n",
    "for o in data.get_orders():\n",
    "    plt.plot(newpfdata[newpfdata['true_order_number']==o]['m'].values,\n",
    "             newpfdata[newpfdata['true_order_number']==o]['times'].values, '.',\n",
    "            color=data.color_of_order(o))"
   ]
  },
  {
   "cell_type": "code",
   "execution_count": null,
   "id": "9a2d8c3a",
   "metadata": {},
   "outputs": [],
   "source": [
    "times"
   ]
  },
  {
   "cell_type": "code",
   "execution_count": null,
   "id": "cf0dc957",
   "metadata": {},
   "outputs": [],
   "source": [
    "plt.figure(figsize=(3,2))\n",
    "ti=times['times'].values\n",
    "m = times['m']\n",
    "I = d1(m)>0\n",
    "dt = np.median(d1(times)[I]/(d1(m)[I]))\n",
    "tmp = d1(ti)/np.median(d1(ti))\n",
    "tmp = tmp - np.round(tmp)\n",
    "plt.plot(tmp, '.')"
   ]
  },
  {
   "cell_type": "code",
   "execution_count": null,
   "id": "40d5e618",
   "metadata": {},
   "outputs": [],
   "source": [
    "plt.figure(figsize=(3,2))\n",
    "for o in data.get_orders():\n",
    "    I = data.index_order(o)\n",
    "    plt.plot(data.eval_polynomial(data.ol[I], o) - data.x[I], '.', color=data.color_of_order(o))"
   ]
  },
  {
   "cell_type": "code",
   "execution_count": null,
   "id": "00d83d9f",
   "metadata": {},
   "outputs": [],
   "source": [
    "for o in data.get_orders():\n",
    "    I = data.index_order(o)\n",
    "    print (\"order\", o, \"ndata \", sum(I))\n",
    "    print ( \" \".join([str(np.quantile(data.sigma[I]*gamma[I], alpha)) \n",
    "                      for alpha in [0.25, 0.5, 0.75]]))\n",
    "\n",
    "\n",
    "#plt.figure(figsize=(3,2))\n",
    "#plt.hist(data.sigma*gamma, bins=250)"
   ]
  },
  {
   "cell_type": "code",
   "execution_count": null,
   "id": "809e1ffb",
   "metadata": {},
   "outputs": [],
   "source": [
    "delta = data.eval_polynomial(data.ol, data.o) - data.x\n",
    "\n",
    "for o in data.get_orders():\n",
    "    I = data.index_order(o)\n",
    "    print(o, np.sqrt(np.mean(delta[I]**2*gamma[I]**2)))"
   ]
  },
  {
   "cell_type": "code",
   "execution_count": null,
   "id": "e452772d",
   "metadata": {},
   "outputs": [],
   "source": [
    "delta = data.eval_polynomial(data.ol, data.o) - data.x\n",
    "\n",
    "for o in data.get_orders():\n",
    "    I = data.index_order(o)\n",
    "    print(o, np.sqrt(np.mean(delta[I]**2)))"
   ]
  },
  {
   "cell_type": "code",
   "execution_count": null,
   "id": "469e1bb6",
   "metadata": {},
   "outputs": [],
   "source": [
    "data.sigma_clipping()\n",
    "plt.figure(figsize=(3,2))\n",
    "o = 40\n",
    "I = data.index_order(o)\n",
    "oll = np.linspace(data.ol.min(), data.ol.max(), 1024)\n",
    "#plt.plot(oll, data.polynomial_fit[o](oll), '-k')\n",
    "plt.vlines(data.ol[I], ymin=-2*data.sigma[I], ymax=2*data.sigma[I], color='r')\n",
    "plt.plot(data.ol[I], data.x[I]-data.polynomial_fit[o](data.ol[I]), 'o')\n"
   ]
  },
  {
   "cell_type": "code",
   "execution_count": null,
   "id": "a4ff2401",
   "metadata": {},
   "outputs": [],
   "source": [
    "data.data.sort_values(by='ref_lambda', inplace=True)"
   ]
  },
  {
   "cell_type": "code",
   "execution_count": null,
   "id": "dc6e3258",
   "metadata": {},
   "outputs": [],
   "source": [
    "tmp = data.data.copy()"
   ]
  },
  {
   "cell_type": "code",
   "execution_count": null,
   "id": "5f5337ce",
   "metadata": {},
   "outputs": [],
   "source": [
    "tmp['true_order_number'].plot()"
   ]
  },
  {
   "cell_type": "code",
   "execution_count": null,
   "id": "4886241b",
   "metadata": {},
   "outputs": [],
   "source": [
    "tmp['true_order_number'].diff(2).tail()"
   ]
  },
  {
   "cell_type": "code",
   "execution_count": null,
   "id": "6f0bc25c",
   "metadata": {},
   "outputs": [],
   "source": [
    "data1 = pd.read_json('NEO_20220512_084045_th2.fits_voie1.json')\n",
    "data2 = pd.read_json('NEO_20220512_103717_th2.fits_voie1.json')\n",
    "data3 = pd.read_json('NEO_20220512_090157_th2.fits_voie1.json')\n",
    "data4 = pd.read_json('NEO_20220512_080859_th2.fits_voie1.json')"
   ]
  },
  {
   "cell_type": "code",
   "execution_count": null,
   "id": "ec19f9fc",
   "metadata": {},
   "outputs": [],
   "source": [
    "data1.iloc[0]"
   ]
  },
  {
   "cell_type": "code",
   "execution_count": null,
   "id": "9d3ced33",
   "metadata": {},
   "outputs": [],
   "source": [
    "data2.iloc[0]"
   ]
  },
  {
   "cell_type": "code",
   "execution_count": null,
   "id": "2ebd1c7e",
   "metadata": {},
   "outputs": [],
   "source": [
    "data3.iloc[0]"
   ]
  },
  {
   "cell_type": "code",
   "execution_count": null,
   "id": "1eb16422",
   "metadata": {},
   "outputs": [],
   "source": [
    "data4.iloc[0]"
   ]
  },
  {
   "cell_type": "code",
   "execution_count": null,
   "id": "48e6264e",
   "metadata": {},
   "outputs": [],
   "source": [
    "plt.figure(figsize=(3,2))\n",
    "plt.plot(data1['pixels_extract'].iloc[0], data1['flux_values_extract'].iloc[0])\n",
    "plt.plot(data2['pixels_extract'].iloc[0], data2['flux_values_extract'].iloc[0])\n",
    "plt.plot(data3['pixels_extract'].iloc[0], data3['flux_values_extract'].iloc[0])\n",
    "plt.plot(data4['pixels_extract'].iloc[0], data4['flux_values_extract'].iloc[0])\n"
   ]
  },
  {
   "cell_type": "code",
   "execution_count": null,
   "id": "be5e1a86",
   "metadata": {},
   "outputs": [],
   "source": [
    "data1"
   ]
  },
  {
   "cell_type": "code",
   "execution_count": null,
   "id": "6a260e67",
   "metadata": {},
   "outputs": [],
   "source": [
    "data.data.iloc[0]"
   ]
  },
  {
   "cell_type": "code",
   "execution_count": null,
   "id": "54cbd0ff",
   "metadata": {},
   "outputs": [],
   "source": []
  }
 ],
 "metadata": {
  "kernelspec": {
   "display_name": "Python 3 (ipykernel)",
   "language": "python",
   "name": "python3"
  },
  "language_info": {
   "codemirror_mode": {
    "name": "ipython",
    "version": 3
   },
   "file_extension": ".py",
   "mimetype": "text/x-python",
   "name": "python",
   "nbconvert_exporter": "python",
   "pygments_lexer": "ipython3",
   "version": "3.8.10"
  }
 },
 "nbformat": 4,
 "nbformat_minor": 5
}
